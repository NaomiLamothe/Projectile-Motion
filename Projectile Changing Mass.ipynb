{
 "cells": [
  {
   "cell_type": "markdown",
   "id": "3458b982",
   "metadata": {},
   "source": [
    "# What would happen if a projectile changed mass and size in midair (density remains constant)?\n",
    "\n",
    "## Looking at the motion separately first"
   ]
  },
  {
   "cell_type": "markdown",
   "id": "f45c87cd",
   "metadata": {},
   "source": [
    "## 1. For a lighter projectile\n",
    "For a spherical 10 lb (4.5kg) iron cannonball the radius will be 5.15 cm (that seemed tiny to me but after further reseach it turns out that cast iron is just really dense)"
   ]
  },
  {
   "cell_type": "code",
   "execution_count": 57,
   "id": "2c05d792",
   "metadata": {},
   "outputs": [
    {
     "name": "stdout",
     "output_type": "stream",
     "text": [
      "The range was: 208.2857539376702 m\n",
      "The maximum height was: 9.98433903907647 m\n"
     ]
    },
    {
     "data": {
      "image/png": "[encoded data removed]",
      "text/plain": [
       "<Figure size 432x288 with 1 Axes>"
      ]
     },
     "metadata": {
      "needs_background": "light"
     },
     "output_type": "display_data"
    }
   ],
   "source": [
    "import numpy as np\n",
    "import matplotlib.pyplot as plt\n",
    "\n",
    "# Model parameters\n",
    "M = 4.5           # Mass of projectile in kg\n",
    "g = 9.8          # Acceleration due to gravity (m/s^2)\n",
    "V = 80           # Initial velocity in m/s\n",
    "ang = 10       # Angle of initial velocity in degrees\n",
    "ro = 1.225       # Air density at sea level (kg/m^3)\n",
    "A = 0.00833          # Cross sectional area of projectile (m)\n",
    "cd = 0.5         # Drag coefficient\n",
    "dt = 0.1         # time step in s\n",
    "\n",
    "Cd = (0.5)*ro*A*cd #Intermidiate step to combine all the constants in the drag equation for simplicity\n",
    "\n",
    "\n",
    "# Set up the lists to store variables\n",
    "# Initialize the velocity and position at t=0\n",
    "t = [0]                         # list to keep track of time\n",
    "vx = [V*np.cos(ang/180*np.pi)]  # list for velocity x and y components\n",
    "vy = [V*np.sin(ang/180*np.pi)]\n",
    "x = [0]                         # list for x and y position\n",
    "y = [0]\n",
    "\n",
    "# Drag force\n",
    "drag=Cd*V**2\n",
    "\n",
    "# Acceleration components\n",
    "ax = [-(drag*np.cos(ang/180*np.pi))/M ]          \n",
    "ay = [-g-(drag*np.sin(ang/180*np.pi)/M) ]\n",
    "\n",
    "## Leave this out for students to try\n",
    "# We can choose to have better control of the time-step here\n",
    "#dt = 0.2\n",
    "\n",
    "# Use Euler method to update variables\n",
    "counter = 0\n",
    "while (y[counter] >= 0):                   # Check that the last value of y is >= 0\n",
    "    t.append(t[counter]+dt)                # increment by dt and add to the list of time \n",
    "    \n",
    "    \n",
    "    \n",
    "    # Update velocity\n",
    "    vx.append(vx[counter]+dt*ax[counter])  # Update the velocity\n",
    "    vy.append(vy[counter]+dt*ay[counter])\n",
    "\n",
    "    # Update position\n",
    "    x.append(x[counter]+dt*vx[counter])    \n",
    "    y.append(y[counter]+dt*vy[counter])    \n",
    "\n",
    "    # With the new velocity calculate the drag force and update acceleration\n",
    "    vel = np.sqrt(vx[counter+1]**2 + vy[counter+1]**2)   # magnitude of velocity\n",
    "    drag = Cd*vel**2                                   # drag force \n",
    "    ax.append(-(drag*np.cos(ang/180*np.pi))/M)     \n",
    "    ay.append(-g-(drag*np.sin(ang/180*np.pi)/M))\n",
    "    \n",
    "    # Increment the counter by 1\n",
    "    counter = counter +1\n",
    "\n",
    "# Plotting the trajectory\n",
    "plt.plot(x,y,'r.')\n",
    "plt.ylabel(\"y (m)\")\n",
    "plt.xlabel(\"x (m)\")\n",
    "\n",
    "print('The range was:', max(x),'m')\n",
    "print('The maximum height was:', max(y),'m')"
   ]
  },
  {
   "cell_type": "markdown",
   "id": "919b2b44",
   "metadata": {},
   "source": [
    "## 2. For a heavier projectile\n",
    "For an 80 lb (36.3 kg) sphereical cannonball the radius will be 10.32cm"
   ]
  },
  {
   "cell_type": "code",
   "execution_count": 58,
   "id": "da3a19ca",
   "metadata": {},
   "outputs": [
    {
     "name": "stdout",
     "output_type": "stream",
     "text": [
      "The range was: 221.75021371213916 m\n",
      "The maximum height was: 10.257533304172862 m\n"
     ]
    },
    {
     "data": {
      "image/png": "[encoded data removed]",
      "text/plain": [
       "<Figure size 432x288 with 1 Axes>"
      ]
     },
     "metadata": {
      "needs_background": "light"
     },
     "output_type": "display_data"
    }
   ],
   "source": [
    "import numpy as np\n",
    "import matplotlib.pyplot as plt\n",
    "\n",
    "# Model parameters\n",
    "M = 36.3         # Mass of projectile in kg\n",
    "g = 9.8          # Acceleration due to gravity (m/s^2)\n",
    "V = 80           # Initial velocity in m/s\n",
    "ang = 10      # Angle of initial velocity in degrees\n",
    "ro = 1.225       # Air density at sea level (kg/m^3)\n",
    "A = 0.033        # Cross sectional area of projectile (m)\n",
    "cd = 0.5         # Drag coefficient\n",
    "dt = 0.1         # time step in s\n",
    "\n",
    "Cd = (0.5)*ro*A*cd #Intermidiate step to combine all the constants in the drag equation for simplicity\n",
    "\n",
    "\n",
    "# Set up the lists to store variables\n",
    "# Initialize the velocity and position at t=0\n",
    "t = [0]                         # list to keep track of time\n",
    "vx = [V*np.cos(ang/180*np.pi)]  # list for velocity x and y components\n",
    "vy = [V*np.sin(ang/180*np.pi)]\n",
    "x = [0]                         # list for x and y position\n",
    "y = [0]\n",
    "\n",
    "# Drag force\n",
    "drag=Cd*V**2\n",
    "\n",
    "# Acceleration components\n",
    "ax = [-(drag*np.cos(ang/180*np.pi))/M ] #Mass doesn't effect the actual drag force but it does affect acceleration since F=ma    \n",
    "ay = [-g-(drag*np.sin(ang/180*np.pi)/M) ]\n",
    "\n",
    "\n",
    "# Use Euler method to update variables\n",
    "counter = 0\n",
    "while (y[counter] >= 0):                   # Check that the last value of y is >= 0\n",
    "    t.append(t[counter]+dt)                # increment by dt and add to the list of time \n",
    "    \n",
    "    \n",
    "    \n",
    "    # Update velocity\n",
    "    vx.append(vx[counter]+dt*ax[counter])  # Update the velocity\n",
    "    vy.append(vy[counter]+dt*ay[counter])\n",
    "\n",
    "    # Update position\n",
    "    x.append(x[counter]+dt*vx[counter])    \n",
    "    y.append(y[counter]+dt*vy[counter])    \n",
    "\n",
    "    # With the new velocity calculate the drag force and update acceleration\n",
    "    vel = np.sqrt(vx[counter+1]**2 + vy[counter+1]**2)   # magnitude of velocity\n",
    "    drag = Cd*vel**2                                   # drag force \n",
    "    ax.append(-(drag*np.cos(ang/180*np.pi))/M)     \n",
    "    ay.append(-g-(drag*np.sin(ang/180*np.pi)/M))\n",
    "    \n",
    "    # Increment the counter by 1\n",
    "    counter = counter +1\n",
    "\n",
    "# Plotting the trajectory\n",
    "plt.plot(x,y,'bo')\n",
    "plt.ylabel(\"y (m)\")\n",
    "plt.xlabel(\"x (m)\")\n",
    "\n",
    "print('The range was:', max(x),'m')\n",
    "print('The maximum height was:', max(y),'m')"
   ]
  },
  {
   "cell_type": "markdown",
   "id": "ccbc1373",
   "metadata": {},
   "source": [
    "## Interpretation of Results\n",
    "When it is in the air it has the the force of gravity pulling it down and the drag force pulling it opposite the direction of motion. From Newton's second law, F=ma. When the mass and size increase, the acceleration due to gravity still remains the same since Fg = mg so a = mg/g = g. The acceleration due to drag will decrease because Fd = Cd(v^2) so ad = Cd(v^2)/m where Cd = 0.5(cd)(ro)(A). The mass increases by 8x but the cross sectional area only increases 4x the remaining variables remain constant. Therefore the acceleration due to drag actually decreases by 1/2. Therefore in this case the increase in mass and size does not actually behave like a parachute, in fact almost the reverse is true. This result depends strongly on the shape of the object before and after the mass increase."
   ]
  },
  {
   "cell_type": "markdown",
   "id": "fb209561",
   "metadata": {},
   "source": [
    "## Putting it all together\n",
    "\n",
    "You can set the inital and final masses and cross sectional areas and the time that the object expands in the code below\n",
    "\n",
    "Note: This assumes the projectile is a sphere\n",
    "\n",
    "Note 2: If you choose a time for the projectile to expand that is after the projectile has landed, the graph will look really strange, try an shorter time. I found that for an inial velocity of 80 and an angle of 10 that T needed to be less than 3"
   ]
  },
  {
   "cell_type": "code",
   "execution_count": 59,
   "id": "00bc3c3e",
   "metadata": {},
   "outputs": [
    {
     "name": "stdout",
     "output_type": "stream",
     "text": [
      "The range was: 209.45031739368235 m\n",
      "The maximum height was: 9.98433903907647 m\n"
     ]
    },
    {
     "data": {
      "image/png": "[encoded data removed]",
      "text/plain": [
       "<Figure size 880x480 with 1 Axes>"
      ]
     },
     "metadata": {
      "needs_background": "light"
     },
     "output_type": "display_data"
    }
   ],
   "source": [
    "import numpy as np\n",
    "import matplotlib.pyplot as plt\n",
    "\n",
    "# Model parameters\n",
    "g = 9.8          # Acceleration due to gravity (m/s^2)\n",
    "V = 80           # Initial velocity in m/s\n",
    "ang = 10.0       # Angle of initial velocity in degrees\n",
    "ro = 1.225       # Air density at sea level (kg/m^3)\n",
    "cd = 0.5         # Drag coefficient\n",
    "\n",
    "#------------------------------------------------------#\n",
    "# SET THESE TO THE VALUES YOU WANT\n",
    "dt = 0.1          # time step in s\n",
    "T = 1.4            # time after launch in sec when the projectile expands\n",
    "M1 = 4.5          # Initial Mass of projectile in kg\n",
    "A1 = 0.00833      # Initial Cross sectional area of projectile (m)\n",
    "M2 = 36.3          # Final Mass of projectile in kg\n",
    "A2 = 0.033      # Final Cross sectional area of projectile (m)\n",
    "#------------------------------------------------------#\n",
    "\n",
    "M = M1\n",
    "Cd = (0.5)*ro*A1*cd #Intermidiate step to combine all the constants in the drag equation for simplicity\n",
    "\n",
    "# Set up the lists to store variables\n",
    "# Initialize the velocity and position at t=0\n",
    "t = [0]                         # list to keep track of time\n",
    "vx = [V*np.cos(ang/180*np.pi)]  # list for velocity x and y components\n",
    "vy = [V*np.sin(ang/180*np.pi)]\n",
    "x = [0]                         # list for x and y position\n",
    "y = [0]\n",
    "\n",
    "# Drag force\n",
    "drag=Cd*V**2\n",
    "\n",
    "# Acceleration components\n",
    "ax = [-(drag*np.cos(ang/180*np.pi))/M ]          \n",
    "ay = [-g-(drag*np.sin(ang/180*np.pi)/M) ]\n",
    "\n",
    "# Use Euler method to update variables\n",
    "counter = 0\n",
    "while (t[counter] <=T):                  # Time that projectile expands\n",
    "    t.append(t[counter]+dt)                # increment by dt and add to the list of time \n",
    "    \n",
    "    # Update velocity\n",
    "    vx.append(vx[counter]+dt*ax[counter])  # Update the velocity\n",
    "    vy.append(vy[counter]+dt*ay[counter])\n",
    "\n",
    "    # Update position\n",
    "    x.append(x[counter]+dt*vx[counter])    \n",
    "    y.append(y[counter]+dt*vy[counter])    \n",
    "\n",
    "    # With the new velocity calculate the drag force and update acceleration\n",
    "    vel = np.sqrt(vx[counter+1]**2 + vy[counter+1]**2)   # magnitude of velocity\n",
    "    drag = Cd*vel**2                                   # drag force \n",
    "    ax.append(-(drag*np.cos(ang/180*np.pi))/M)     \n",
    "    ay.append(-g-(drag*np.sin(ang/180*np.pi)/M))\n",
    "    \n",
    "    # Increment the counter by 1\n",
    "    counter = counter +1\n",
    "count1 = counter\n",
    "\n",
    "# Plotting the trajectory of the first half\n",
    "from matplotlib.pyplot import figure\n",
    "figure(figsize=(11, 6), dpi=80)\n",
    "plt.plot(x,y,'r.')\n",
    "plt.ylabel(\"y (m)\")\n",
    "plt.xlabel(\"x (m)\")\n",
    "\n",
    "#Update mass and cross sectional area for the 80lb projectile\n",
    "M = M2\n",
    "Cd = (0.5)*ro*A2*cd\n",
    "\n",
    "\n",
    "while (y[counter] >=0):                 \n",
    "    t.append(t[counter]+dt)                # increment by dt and add to the list of time \n",
    "    \n",
    "    # Update velocity\n",
    "    vx.append(vx[counter]+dt*ax[counter])  # Update the velocity\n",
    "    vy.append(vy[counter]+dt*ay[counter])\n",
    "\n",
    "    # Update position\n",
    "    x.append(x[counter]+dt*vx[counter])    \n",
    "    y.append(y[counter]+dt*vy[counter])    \n",
    "\n",
    "    # With the new velocity calculate the drag force and update acceleration\n",
    "    vel = np.sqrt(vx[counter+1]**2 + vy[counter+1]**2)   # magnitude of velocity\n",
    "    drag = Cd*vel**2                                   # drag force \n",
    "    ax.append(-(drag*np.cos(ang/180*np.pi))/M)     \n",
    "    ay.append(-g-(drag*np.sin(ang/180*np.pi)/M))\n",
    "    \n",
    "    # Increment the counter by 1\n",
    "    counter = counter +1\n",
    "\n",
    "# Plotting the trajectory\n",
    "plt.plot(x[count1:],y[count1:],'bo')\n",
    "plt.ylabel(\"y (m)\")\n",
    "plt.xlabel(\"x (m)\")\n",
    "\n",
    "print('The range was:', max(x),'m')\n",
    "print('The maximum height was:', max(y),'m')"
   ]
  },
  {
   "cell_type": "code",
   "execution_count": null,
   "id": "12f0e727",
   "metadata": {},
   "outputs": [],
   "source": []
  }
 ],
 "metadata": {
  "kernelspec": {
   "display_name": "Python 3 (ipykernel)",
   "language": "python",
   "name": "python3"
  },
  "language_info": {
   "codemirror_mode": {
    "name": "ipython",
    "version": 3
   },
   "file_extension": ".py",
   "mimetype": "text/x-python",
   "name": "python",
   "nbconvert_exporter": "python",
   "pygments_lexer": "ipython3",
   "version": "3.9.6"
  }
 },
 "nbformat": 4,
 "nbformat_minor": 5
}
